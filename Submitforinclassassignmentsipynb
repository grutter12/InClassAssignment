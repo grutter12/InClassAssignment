{
  "nbformat": 4,
  "nbformat_minor": 0,
  "metadata": {
    "colab": {
      "provenance": [],
      "authorship_tag": "ABX9TyPMgRqWugMnOZtjLhzTAUmD",
      "include_colab_link": true
    },
    "kernelspec": {
      "name": "python3",
      "display_name": "Python 3"
    },
    "language_info": {
      "name": "python"
    }
  },
  "cells": [
    {
      "cell_type": "markdown",
      "metadata": {
        "id": "view-in-github",
        "colab_type": "text"
      },
      "source": [
        "<a href=\"https://colab.research.google.com/github/grutter12/InClassAssignment/blob/main/InClassAssignments.ipynb\" target=\"_parent\"><img src=\"https://colab.research.google.com/assets/colab-badge.svg\" alt=\"Open In Colab\"/></a>"
      ]
    },
    {
      "cell_type": "markdown",
      "source": [
        "**Cylinder Area Calculator**"
      ],
      "metadata": {
        "id": "eR4SV0pw-j-W"
      }
    },
    {
      "cell_type": "code",
      "execution_count": null,
      "metadata": {
        "id": "qPSXozIrLmG3",
        "colab": {
          "base_uri": "https://localhost:8080/"
        },
        "outputId": "1cd311c8-c3e4-44b5-97d9-ca9a75356af9",
        "collapsed": true
      },
      "outputs": [
        {
          "output_type": "stream",
          "name": "stdout",
          "text": [
            "Enter the height of the cylinder3\n",
            "Enter the radius of the cylinder4\n",
            "The total area of the closed cylinder is: 175.92904\n"
          ]
        }
      ],
      "source": [
        "pi = 3.14159\n",
        "Height = float(input(\"Enter the height of the cylinder\"))\n",
        "Radius = float(input(\"Enter the radius of the cylinder\"))\n",
        "Totalarea = (2 * pi * Radius * Height)+(2 *pi * Radius**2)\n",
        "print(\"The total area of the closed cylinder is:\", Totalarea)"
      ]
    },
    {
      "cell_type": "markdown",
      "source": [
        "**Numerical Calculator**"
      ],
      "metadata": {
        "id": "kQ3swlb7fme2"
      }
    },
    {
      "cell_type": "code",
      "source": [
        "number1 = float(input(\"Enter the first number \"))\n",
        "number2 = float(input(\"Enter the second number \"))\n",
        "operation = input(\"Please input your operation: \")\n",
        "\n",
        "if operation == \"+\":\n",
        "  print(number1 + number2)\n",
        "elif operation == \"-\":\n",
        "  print(number1 - number2)\n",
        "elif operation == \"*\":\n",
        "  print(number1 * number2)\n",
        "elif operation == \"/\":\n",
        "  print(number1 / number2)\n",
        "elif operation == \"//\":\n",
        "  print(number1 // number2)\n",
        "elif operation == \"%\":\n",
        "  print(number1 % number2)\n",
        "elif operation == \"**\":\n",
        "  print(number1 ** number2)\n",
        "else:\n",
        "   print(\"Invalid Input\")"
      ],
      "metadata": {
        "colab": {
          "base_uri": "https://localhost:8080/"
        },
        "collapsed": true,
        "id": "IIs7NxZagCYf",
        "outputId": "712a680d-0d1d-4044-9c32-51b9ae39e393"
      },
      "execution_count": 7,
      "outputs": [
        {
          "output_type": "stream",
          "name": "stdout",
          "text": [
            "Enter the first number 4\n",
            "Enter the second number 6\n",
            "Please input your operation: /\n",
            "0.6666666666666666\n"
          ]
        }
      ]
    },
    {
      "cell_type": "markdown",
      "source": [
        "**Parking Garage - Inital Problem**\n"
      ],
      "metadata": {
        "id": "Vk2bXjDAYPhr"
      }
    },
    {
      "cell_type": "code",
      "source": [
        "for number in range(1,9,1):\n",
        "  fee = float(5 + number * 2.50)\n",
        "  if fee < 10:\n",
        "    print (number, 10.0)\n",
        "  elif fee > 20:\n",
        "    print (number, 20.0)\n",
        "  else:\n",
        "    print (number, fee)\n"
      ],
      "metadata": {
        "colab": {
          "base_uri": "https://localhost:8080/"
        },
        "id": "FW-NoaNlYO2k",
        "outputId": "ef64e2a1-3706-4eab-b570-41368bdc788d",
        "collapsed": true
      },
      "execution_count": null,
      "outputs": [
        {
          "output_type": "stream",
          "name": "stdout",
          "text": [
            "1 10.0\n",
            "2 10.0\n",
            "3 12.5\n",
            "4 15.0\n",
            "5 17.5\n",
            "6 20.0\n",
            "7 20.0\n",
            "8 20.0\n"
          ]
        }
      ]
    },
    {
      "cell_type": "markdown",
      "source": [
        "**Movie Theater - Inital Problem**"
      ],
      "metadata": {
        "id": "SHGHuO_ndf-N"
      }
    },
    {
      "cell_type": "code",
      "source": [
        "print(\"Ads\", \"profit\")\n",
        "for adAmount in range (0,201,25):\n",
        "  addAttendees = 20 + (2 * round((adAmount)**.5))\n",
        "  profit = float((10*addAttendees) - adAmount - 200)\n",
        "  print(adAmount, profit)\n"
      ],
      "metadata": {
        "colab": {
          "base_uri": "https://localhost:8080/"
        },
        "id": "S9S0JEVgdfuF",
        "outputId": "8a44359a-0c1b-4975-c87f-d0d955b65a28",
        "collapsed": true
      },
      "execution_count": null,
      "outputs": [
        {
          "output_type": "stream",
          "name": "stdout",
          "text": [
            "Ads profit\n",
            "0 0.0\n",
            "25 75.0\n",
            "50 90.0\n",
            "75 105.0\n",
            "100 100.0\n",
            "125 95.0\n",
            "150 90.0\n",
            "175 85.0\n",
            "200 80.0\n"
          ]
        }
      ]
    },
    {
      "cell_type": "markdown",
      "source": [
        "**Rock - Paper - Scissors**"
      ],
      "metadata": {
        "id": "RKuQMZh8HbCW"
      }
    },
    {
      "cell_type": "code",
      "source": [
        "import random\n",
        "\n",
        "while True :\n",
        "  PlayerOne = input(\"Choose Rock Paper or Scissors \")\n",
        "  PlayerTwo = random.choice([\"Rock\", \"Paper\", \"Scissors\"])\n",
        "  print(\"Player Two chose\", PlayerTwo)\n",
        "  if PlayerOne == \"Rock\" and PlayerTwo == \"Paper\":\n",
        "    print(\"Player Two Wins\")\n",
        "  elif PlayerOne == \"Rock\" and PlayerTwo == \"Scissors\":\n",
        "    print(\"Player One Wins\")\n",
        "  elif PlayerOne == \"Paper\" and PlayerTwo == \"Rock\":\n",
        "    print(\"Player One Wins\")\n",
        "  elif PlayerOne == \"Paper\" and PlayerTwo == \"Scissors\":\n",
        "    print(\"Player Two Wins\")\n",
        "  elif PlayerOne == \"Scissors\" and PlayerTwo == \"Rock\":\n",
        "    print(\"Player Two Wins\")\n",
        "  elif PlayerOne == \"Scissors\" and PlayerTwo == \"Paper\":\n",
        "    print(\"Player One Wins\")\n",
        "  else:\n",
        "    print(\"It's a Tie\")\n",
        "  Answer = input(\"Would you like to play again? \")\n",
        "  if Answer == \"No\":\n",
        "    print(\"Thanks for playing\")\n",
        "    break\n",
        "\n",
        "\n",
        "\n"
      ],
      "metadata": {
        "colab": {
          "base_uri": "https://localhost:8080/"
        },
        "id": "lHjWmoZiJoRE",
        "outputId": "e88f6b32-d864-4df0-f067-5bca9caf4719",
        "collapsed": true
      },
      "execution_count": null,
      "outputs": [
        {
          "metadata": {
            "tags": null
          },
          "name": "stdout",
          "output_type": "stream",
          "text": [
            "Player Two chose Paper\n",
            "Player Two Wins\n",
            "Player Two chose Scissors\n",
            "Player Two Wins\n",
            "Player Two chose Rock\n",
            "Player Two Wins\n"
          ]
        }
      ]
    },
    {
      "cell_type": "markdown",
      "source": [
        "**Append Items to List Iteratively**"
      ],
      "metadata": {
        "id": "0su72jH4hnYh"
      }
    },
    {
      "cell_type": "code",
      "source": [
        "lst = []\n",
        "\n",
        "num = float(input(\"Please input a numberical number: \"))\n",
        "while num != 0:\n",
        "  lst.append(num)\n",
        "  num = float(input(\"Please input a numberical number: \"))\n",
        "\n",
        "lst.sort(reverse=True)\n",
        "lst"
      ],
      "metadata": {
        "colab": {
          "base_uri": "https://localhost:8080/",
          "height": 365
        },
        "collapsed": true,
        "id": "eHoG2Sirhvro",
        "outputId": "4fc1b9e7-c5c7-4ddf-80ac-3e1ba9d06822"
      },
      "execution_count": 9,
      "outputs": [
        {
          "output_type": "error",
          "ename": "KeyboardInterrupt",
          "evalue": "Interrupted by user",
          "traceback": [
            "\u001b[0;31m---------------------------------------------------------------------------\u001b[0m",
            "\u001b[0;31mKeyboardInterrupt\u001b[0m                         Traceback (most recent call last)",
            "\u001b[0;32m<ipython-input-9-01d2cc3d6636>\u001b[0m in \u001b[0;36m<cell line: 0>\u001b[0;34m()\u001b[0m\n\u001b[1;32m      1\u001b[0m \u001b[0mlst\u001b[0m \u001b[0;34m=\u001b[0m \u001b[0;34m[\u001b[0m\u001b[0;34m]\u001b[0m\u001b[0;34m\u001b[0m\u001b[0;34m\u001b[0m\u001b[0m\n\u001b[1;32m      2\u001b[0m \u001b[0;34m\u001b[0m\u001b[0m\n\u001b[0;32m----> 3\u001b[0;31m \u001b[0mnum\u001b[0m \u001b[0;34m=\u001b[0m \u001b[0mfloat\u001b[0m\u001b[0;34m(\u001b[0m\u001b[0minput\u001b[0m\u001b[0;34m(\u001b[0m\u001b[0;34m\"Please input a numberical number: \"\u001b[0m\u001b[0;34m)\u001b[0m\u001b[0;34m)\u001b[0m\u001b[0;34m\u001b[0m\u001b[0;34m\u001b[0m\u001b[0m\n\u001b[0m\u001b[1;32m      4\u001b[0m \u001b[0;32mwhile\u001b[0m \u001b[0mnum\u001b[0m \u001b[0;34m!=\u001b[0m \u001b[0;36m0\u001b[0m\u001b[0;34m:\u001b[0m\u001b[0;34m\u001b[0m\u001b[0;34m\u001b[0m\u001b[0m\n\u001b[1;32m      5\u001b[0m   \u001b[0mlst\u001b[0m\u001b[0;34m.\u001b[0m\u001b[0mappend\u001b[0m\u001b[0;34m(\u001b[0m\u001b[0mnum\u001b[0m\u001b[0;34m)\u001b[0m\u001b[0;34m\u001b[0m\u001b[0;34m\u001b[0m\u001b[0m\n",
            "\u001b[0;32m/usr/local/lib/python3.11/dist-packages/ipykernel/kernelbase.py\u001b[0m in \u001b[0;36mraw_input\u001b[0;34m(self, prompt)\u001b[0m\n\u001b[1;32m   1175\u001b[0m                 \u001b[0;34m\"raw_input was called, but this frontend does not support input requests.\"\u001b[0m\u001b[0;34m\u001b[0m\u001b[0;34m\u001b[0m\u001b[0m\n\u001b[1;32m   1176\u001b[0m             )\n\u001b[0;32m-> 1177\u001b[0;31m         return self._input_request(\n\u001b[0m\u001b[1;32m   1178\u001b[0m             \u001b[0mstr\u001b[0m\u001b[0;34m(\u001b[0m\u001b[0mprompt\u001b[0m\u001b[0;34m)\u001b[0m\u001b[0;34m,\u001b[0m\u001b[0;34m\u001b[0m\u001b[0;34m\u001b[0m\u001b[0m\n\u001b[1;32m   1179\u001b[0m             \u001b[0mself\u001b[0m\u001b[0;34m.\u001b[0m\u001b[0m_parent_ident\u001b[0m\u001b[0;34m[\u001b[0m\u001b[0;34m\"shell\"\u001b[0m\u001b[0;34m]\u001b[0m\u001b[0;34m,\u001b[0m\u001b[0;34m\u001b[0m\u001b[0;34m\u001b[0m\u001b[0m\n",
            "\u001b[0;32m/usr/local/lib/python3.11/dist-packages/ipykernel/kernelbase.py\u001b[0m in \u001b[0;36m_input_request\u001b[0;34m(self, prompt, ident, parent, password)\u001b[0m\n\u001b[1;32m   1217\u001b[0m             \u001b[0;32mexcept\u001b[0m \u001b[0mKeyboardInterrupt\u001b[0m\u001b[0;34m:\u001b[0m\u001b[0;34m\u001b[0m\u001b[0;34m\u001b[0m\u001b[0m\n\u001b[1;32m   1218\u001b[0m                 \u001b[0;31m# re-raise KeyboardInterrupt, to truncate traceback\u001b[0m\u001b[0;34m\u001b[0m\u001b[0;34m\u001b[0m\u001b[0m\n\u001b[0;32m-> 1219\u001b[0;31m                 \u001b[0;32mraise\u001b[0m \u001b[0mKeyboardInterrupt\u001b[0m\u001b[0;34m(\u001b[0m\u001b[0;34m\"Interrupted by user\"\u001b[0m\u001b[0;34m)\u001b[0m \u001b[0;32mfrom\u001b[0m \u001b[0;32mNone\u001b[0m\u001b[0;34m\u001b[0m\u001b[0;34m\u001b[0m\u001b[0m\n\u001b[0m\u001b[1;32m   1220\u001b[0m             \u001b[0;32mexcept\u001b[0m \u001b[0mException\u001b[0m\u001b[0;34m:\u001b[0m\u001b[0;34m\u001b[0m\u001b[0;34m\u001b[0m\u001b[0m\n\u001b[1;32m   1221\u001b[0m                 \u001b[0mself\u001b[0m\u001b[0;34m.\u001b[0m\u001b[0mlog\u001b[0m\u001b[0;34m.\u001b[0m\u001b[0mwarning\u001b[0m\u001b[0;34m(\u001b[0m\u001b[0;34m\"Invalid Message:\"\u001b[0m\u001b[0;34m,\u001b[0m \u001b[0mexc_info\u001b[0m\u001b[0;34m=\u001b[0m\u001b[0;32mTrue\u001b[0m\u001b[0;34m)\u001b[0m\u001b[0;34m\u001b[0m\u001b[0;34m\u001b[0m\u001b[0m\n",
            "\u001b[0;31mKeyboardInterrupt\u001b[0m: Interrupted by user"
          ]
        }
      ]
    },
    {
      "cell_type": "markdown",
      "source": [
        "**Dynamic Dictionary of Number: Month Pairs**"
      ],
      "metadata": {
        "id": "KOR5MjoNiM75"
      }
    },
    {
      "cell_type": "code",
      "source": [
        "months = {}\n",
        "\n",
        "names = [\"January\", \"February\", \"March\", \"April\", \"May\", \"June\", \"July\", \"August\", \"September\", \"October\", \"November\", \"December\"]\n",
        "numbers = [1, 2, 3, 4, 5, 6, 7, 8, 9, 10, 11, 12]\n",
        "\n",
        "for idx in range(len(names)):\n",
        "  months[numbers[idx]] = names[idx]\n",
        "\n",
        "print(months)"
      ],
      "metadata": {
        "colab": {
          "base_uri": "https://localhost:8080/"
        },
        "collapsed": true,
        "id": "x7wHF9EpiT3Q",
        "outputId": "72df57e3-9785-441d-e9fd-5ca393284a4c"
      },
      "execution_count": 10,
      "outputs": [
        {
          "output_type": "stream",
          "name": "stdout",
          "text": [
            "{1: 'January', 2: 'February', 3: 'March', 4: 'April', 5: 'May', 6: 'June', 7: 'July', 8: 'August', 9: 'September', 10: 'October', 11: 'November', 12: 'December'}\n"
          ]
        }
      ]
    },
    {
      "cell_type": "markdown",
      "source": [
        "**Dynamic Dictionary : 5 Distinct Key; Value Pairs**"
      ],
      "metadata": {
        "id": "kPO7-W1ti648"
      }
    },
    {
      "cell_type": "code",
      "source": [
        "counts = {}\n",
        "word = input(\"Enter a word: \")\n",
        "\n",
        "while len(counts) < 5:\n",
        "  if word in counts:\n",
        "    counts[word] +=FileConfigLoader\n",
        "    h\n",
        "    1\n",
        "  else:\n",
        "    counts[word] = 1\n",
        "  word = input(\"Enter a word: \")\n",
        "\n",
        "print(counts)"
      ],
      "metadata": {
        "colab": {
          "base_uri": "https://localhost:8080/"
        },
        "collapsed": true,
        "id": "HeASC-J-jDv4",
        "outputId": "66482070-9ed0-4977-9c48-a94b3e442ea4"
      },
      "execution_count": null,
      "outputs": [
        {
          "name": "stdout",
          "output_type": "stream",
          "text": [
            "Enter a word: grace\n",
            "Enter a word: name\n"
          ]
        }
      ]
    },
    {
      "cell_type": "markdown",
      "source": [],
      "metadata": {
        "id": "2J_n38N4AaAK"
      }
    }
  ]
}
