{
  "nbformat": 4,
  "nbformat_minor": 0,
  "metadata": {
    "colab": {
      "provenance": [],
      "authorship_tag": "ABX9TyNl61rEGXM6huXGFYNWqXps",
      "include_colab_link": true
    },
    "kernelspec": {
      "name": "python3",
      "display_name": "Python 3"
    },
    "language_info": {
      "name": "python"
    }
  },
  "cells": [
    {
      "cell_type": "markdown",
      "metadata": {
        "id": "view-in-github",
        "colab_type": "text"
      },
      "source": [
        "<a href=\"https://colab.research.google.com/github/grutter12/InClassAssignment/blob/main/InClassAssignments.ipynb\" target=\"_parent\"><img src=\"https://colab.research.google.com/assets/colab-badge.svg\" alt=\"Open In Colab\"/></a>"
      ]
    },
    {
      "cell_type": "code",
      "execution_count": null,
      "metadata": {
        "id": "qPSXozIrLmG3",
        "colab": {
          "base_uri": "https://localhost:8080/"
        },
        "outputId": "1cd311c8-c3e4-44b5-97d9-ca9a75356af9"
      },
      "outputs": [
        {
          "output_type": "stream",
          "name": "stdout",
          "text": [
            "Enter the height of the cylinder3\n",
            "Enter the radius of the cylinder4\n",
            "The total area of the closed cylinder is: 175.92904\n"
          ]
        }
      ],
      "source": [
        "pi = 3.14159\n",
        "Height = float(input(\"Enter the height of the cylinder\"))\n",
        "Radius = float(input(\"Enter the radius of the cylinder\"))\n",
        "Totalarea = (2 * pi * Radius * Height)+(2 *pi * Radius**2)\n",
        "print(\"The total area of the closed cylinder is:\", Totalarea)"
      ]
    },
    {
      "cell_type": "markdown",
      "source": [
        "Parking Garage - Inital Problem"
      ],
      "metadata": {
        "id": "Vk2bXjDAYPhr"
      }
    },
    {
      "cell_type": "code",
      "source": [
        "for number in range(1,9,1):\n",
        "  fee = float(5 + number * 2.50)\n",
        "  if fee < 10:\n",
        "    print (number, 10.0)\n",
        "  elif fee > 20:\n",
        "    print (number, 20.0)\n",
        "  else:\n",
        "    print (number, fee)\n"
      ],
      "metadata": {
        "colab": {
          "base_uri": "https://localhost:8080/"
        },
        "id": "FW-NoaNlYO2k",
        "outputId": "ef64e2a1-3706-4eab-b570-41368bdc788d"
      },
      "execution_count": 8,
      "outputs": [
        {
          "output_type": "stream",
          "name": "stdout",
          "text": [
            "1 10.0\n",
            "2 10.0\n",
            "3 12.5\n",
            "4 15.0\n",
            "5 17.5\n",
            "6 20.0\n",
            "7 20.0\n",
            "8 20.0\n"
          ]
        }
      ]
    },
    {
      "cell_type": "markdown",
      "source": [
        "Movie Theater - Inital Problem"
      ],
      "metadata": {
        "id": "SHGHuO_ndf-N"
      }
    },
    {
      "cell_type": "code",
      "source": [
        "print(\"Ads\", \"profit\")\n",
        "for adAmount in range (0,201,25):\n",
        "  addAttendees = 20 + (2 * round((adAmount)**.5))\n",
        "  profit = float((10*addAttendees) - adAmount - 200)\n",
        "  print(adAmount, profit)\n"
      ],
      "metadata": {
        "colab": {
          "base_uri": "https://localhost:8080/"
        },
        "id": "S9S0JEVgdfuF",
        "outputId": "8a44359a-0c1b-4975-c87f-d0d955b65a28"
      },
      "execution_count": 15,
      "outputs": [
        {
          "output_type": "stream",
          "name": "stdout",
          "text": [
            "Ads profit\n",
            "0 0.0\n",
            "25 75.0\n",
            "50 90.0\n",
            "75 105.0\n",
            "100 100.0\n",
            "125 95.0\n",
            "150 90.0\n",
            "175 85.0\n",
            "200 80.0\n"
          ]
        }
      ]
    }
  ]
}