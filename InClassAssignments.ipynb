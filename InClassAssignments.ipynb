{
  "nbformat": 4,
  "nbformat_minor": 0,
  "metadata": {
    "colab": {
      "provenance": [],
      "authorship_tag": "ABX9TyNPE1w2C71OWGj1Jv3U+MvG",
      "include_colab_link": true
    },
    "kernelspec": {
      "name": "python3",
      "display_name": "Python 3"
    },
    "language_info": {
      "name": "python"
    }
  },
  "cells": [
    {
      "cell_type": "markdown",
      "metadata": {
        "id": "view-in-github",
        "colab_type": "text"
      },
      "source": [
        "<a href=\"https://colab.research.google.com/github/grutter12/InClassAssignment/blob/main/InClassAssignments.ipynb\" target=\"_parent\"><img src=\"https://colab.research.google.com/assets/colab-badge.svg\" alt=\"Open In Colab\"/></a>"
      ]
    },
    {
      "cell_type": "code",
      "execution_count": 7,
      "metadata": {
        "id": "qPSXozIrLmG3",
        "colab": {
          "base_uri": "https://localhost:8080/"
        },
        "outputId": "1cd311c8-c3e4-44b5-97d9-ca9a75356af9"
      },
      "outputs": [
        {
          "output_type": "stream",
          "name": "stdout",
          "text": [
            "Enter the height of the cylinder3\n",
            "Enter the radius of the cylinder4\n",
            "The total area of the closed cylinder is: 175.92904\n"
          ]
        }
      ],
      "source": [
        "pi = 3.14159\n",
        "Height = float(input(\"Enter the height of the cylinder\"))\n",
        "Radius = float(input(\"Enter the radius of the cylinder\"))\n",
        "Totalarea = (2 * pi * Radius * Height)+(2 *pi * Radius**2)\n",
        "print(\"The total area of the closed cylinder is:\", Totalarea)"
      ]
    }
  ]
}